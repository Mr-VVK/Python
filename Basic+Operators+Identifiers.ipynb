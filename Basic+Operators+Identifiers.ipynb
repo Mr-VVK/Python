{
 "cells": [
  {
   "cell_type": "markdown",
   "metadata": {},
   "source": [
    "# Keywords"
   ]
  },
  {
   "cell_type": "code",
   "execution_count": 1,
   "metadata": {},
   "outputs": [
    {
     "name": "stdout",
     "output_type": "stream",
     "text": [
      "['False', 'None', 'True', 'and', 'as', 'assert', 'async', 'await', 'break', 'class', 'continue', 'def', 'del', 'elif', 'else', 'except', 'finally', 'for', 'from', 'global', 'if', 'import', 'in', 'is', 'lambda', 'nonlocal', 'not', 'or', 'pass', 'raise', 'return', 'try', 'while', 'with', 'yield']\n",
      "\n",
      " Total Number of Keywords: 35\n"
     ]
    }
   ],
   "source": [
    "# get all keywords in python 3.6\n",
    "import keyword\n",
    "print(keyword.kwlist)\n",
    "print(\"\\n Total Number of Keywords:\", len(keyword.kwlist))"
   ]
  },
  {
   "cell_type": "markdown",
   "metadata": {},
   "source": [
    "# Identifiers"
   ]
  },
  {
   "cell_type": "markdown",
   "metadata": {},
   "source": [
    "identifer is the name given to entities like calss, functions, variables etc in python. it helps differentiating one entity from another\n",
    "1. identifer we define using alphabets (a to z) and (A to Z) and (0 to 9) and underscore\n",
    "2. identifer must not start with digit\n",
    "3. no key words used as a identifier\n",
    "4. no special characters us as identifier"
   ]
  },
  {
   "cell_type": "code",
   "execution_count": 3,
   "metadata": {},
   "outputs": [
    {
     "name": "stdout",
     "output_type": "stream",
     "text": [
      "10 \t 20 \t 30\n"
     ]
    }
   ],
   "source": [
    "# example\n",
    "a=10\n",
    "a1=20\n",
    "a_1=30\n",
    "print(a,\"\\t\",a1,\"\\t\",a_1)"
   ]
  },
  {
   "cell_type": "code",
   "execution_count": 21,
   "metadata": {},
   "outputs": [
    {
     "data": {
      "text/plain": [
       "45"
      ]
     },
     "execution_count": 21,
     "metadata": {},
     "output_type": "execute_result"
    }
   ],
   "source": [
    "#  multi line variable declaration \"\\\" is mandatory or used closed braket  like (1+2+3...)\n",
    "a= 1+2+3+\\\n",
    "   4+5+6+\\\n",
    "   7+8+9\n",
    "a"
   ]
  },
  {
   "cell_type": "code",
   "execution_count": 24,
   "metadata": {},
   "outputs": [
    {
     "name": "stdout",
     "output_type": "stream",
     "text": [
      "10 20 30\n"
     ]
    }
   ],
   "source": [
    "a,b,c=10,20,30\n",
    "print(a,b,c)\n"
   ]
  },
  {
   "cell_type": "code",
   "execution_count": 25,
   "metadata": {},
   "outputs": [
    {
     "name": "stdout",
     "output_type": "stream",
     "text": [
      " the value of a is: 10\n",
      " the values of a is:10\n"
     ]
    }
   ],
   "source": [
    "a=10\n",
    "print(\" the value of a is:\",a)\n",
    "print(\" the values of a is:\"+str(a)) # here a converting as string and printing"
   ]
  },
  {
   "cell_type": "markdown",
   "metadata": {},
   "source": [
    "# output formatting"
   ]
  },
  {
   "cell_type": "code",
   "execution_count": 28,
   "metadata": {},
   "outputs": [
    {
     "name": "stdout",
     "output_type": "stream",
     "text": [
      "the value of a is 10 and b is 20\n"
     ]
    }
   ],
   "source": [
    "a,b=10,20\n",
    "print(\"the value of a is {} and b is {}\".format(a,b))"
   ]
  },
  {
   "cell_type": "code",
   "execution_count": 30,
   "metadata": {},
   "outputs": [
    {
     "name": "stdout",
     "output_type": "stream",
     "text": [
      "the value of a is 20 and b is 10\n"
     ]
    }
   ],
   "source": [
    "a,b=10,20 # index based printing basically a is 0 index and b is 1 index but  printing b value as 0 index and a with 1 index value\n",
    "print(\"the value of a is {1} and b is {0}\".format(a,b))"
   ]
  },
  {
   "cell_type": "code",
   "execution_count": 31,
   "metadata": {},
   "outputs": [
    {
     "name": "stdout",
     "output_type": "stream",
     "text": [
      "Hello vinay,welcome\n"
     ]
    }
   ],
   "source": [
    "print(\"Hello {name},{greeting}\".format(name='vinay',greeting='welcome'))"
   ]
  },
  {
   "cell_type": "code",
   "execution_count": 32,
   "metadata": {},
   "outputs": [
    {
     "name": "stdout",
     "output_type": "stream",
     "text": [
      "the story of vinay,kumar, and vvk\n"
     ]
    }
   ],
   "source": [
    "print(\"the story of {0}, {1}, and {other}\".format ('vinay', 'kumar', other='vvk'))"
   ]
  },
  {
   "cell_type": "markdown",
   "metadata": {},
   "source": [
    "# Input formating"
   ]
  },
  {
   "cell_type": "code",
   "execution_count": 34,
   "metadata": {},
   "outputs": [
    {
     "name": "stdout",
     "output_type": "stream",
     "text": [
      "enter your value:5\n",
      "5\n"
     ]
    }
   ],
   "source": [
    "num = input(\"enter your value:\")\n",
    "print(num)"
   ]
  },
  {
   "cell_type": "markdown",
   "metadata": {},
   "source": [
    "# operators"
   ]
  },
  {
   "cell_type": "markdown",
   "metadata": {},
   "source": [
    "1. arithmetic operators\n",
    "2. comparison(relational) operators\n",
    "3. Logical operators (Boolean)\n",
    "4. Bitwise operators\n",
    "5. Assignment operators\n",
    "6. Special operators"
   ]
  },
  {
   "cell_type": "code",
   "execution_count": 37,
   "metadata": {},
   "outputs": [
    {
     "name": "stdout",
     "output_type": "stream",
     "text": [
      "30\n",
      "-10\n",
      "200\n",
      "100000000000000000000\n",
      "0.5\n",
      "0\n",
      "10\n"
     ]
    }
   ],
   "source": [
    "# 1. Arithemtic operators =,-,*,**,/,//,%\n",
    "x,y=10,20\n",
    "print(x+y)\n",
    "print(x-y)\n",
    "print(x*y)\n",
    "print(x**y) # exponential\n",
    "print(x/y)\n",
    "print(x//y) #floor operation\n",
    "print(x%y)"
   ]
  },
  {
   "cell_type": "code",
   "execution_count": 40,
   "metadata": {},
   "outputs": [
    {
     "name": "stdout",
     "output_type": "stream",
     "text": [
      "True\n",
      "True\n",
      "False\n",
      "False\n",
      "False\n",
      "True\n"
     ]
    }
   ],
   "source": [
    "#2. Comparision operators gives boolean output\n",
    "a=10;b=20\n",
    "print(a<b)\n",
    "print(a<=b)\n",
    "print(a==b)\n",
    "print(a>b)\n",
    "print(a>=b)\n",
    "print(a!=b)"
   ]
  },
  {
   "cell_type": "code",
   "execution_count": 41,
   "metadata": {},
   "outputs": [
    {
     "name": "stdout",
     "output_type": "stream",
     "text": [
      "False\n",
      "True\n",
      "True\n"
     ]
    }
   ],
   "source": [
    "# logical operators \n",
    "a=True; b=False\n",
    "print(a and b)\n",
    "print(a or b)\n",
    "print(a and not b)"
   ]
  },
  {
   "cell_type": "code",
   "execution_count": 49,
   "metadata": {},
   "outputs": [
    {
     "name": "stdout",
     "output_type": "stream",
     "text": [
      "0\n",
      "7\n",
      "7\n",
      "1\n",
      "20\n"
     ]
    }
   ],
   "source": [
    "# 4. bitwise operators AND &, OR |, NOT ~, XOR ^, RIGHTSHIFT >>, LEFT SHIFT <<\n",
    "a=5;b=2\n",
    "#bitwise AND\n",
    "print(a & b)\n",
    "# bitwise OR\n",
    "print (a|b)\n",
    "# bitwise NOT\n",
    "# print(a ~ b)\n",
    "# bitwise XOR\n",
    "print(a^b)\n",
    "# bitwise Rightshift\n",
    "print(a>>b)\n",
    "#bitwise leftshift\n",
    "print(a<<b)\n",
    "\n"
   ]
  },
  {
   "cell_type": "code",
   "execution_count": 50,
   "metadata": {},
   "outputs": [],
   "source": [
    "#5. Assignment Operators: =, +=, -=, /=, *=, //=, **=, &=, |=, ^=, >>=, <<="
   ]
  },
  {
   "cell_type": "code",
   "execution_count": 51,
   "metadata": {},
   "outputs": [
    {
     "name": "stdout",
     "output_type": "stream",
     "text": [
      "True\n"
     ]
    }
   ],
   "source": [
    "# 6. special operators\n",
    "#      (i) identity operators\n",
    "a=5\n",
    "b=5\n",
    "print (a is b)"
   ]
  },
  {
   "cell_type": "code",
   "execution_count": 53,
   "metadata": {},
   "outputs": [
    {
     "name": "stdout",
     "output_type": "stream",
     "text": [
      "False\n"
     ]
    }
   ],
   "source": [
    "l1 = [1,2,3] # 'is' not applicable for lists,tuples, strings, etc type of complex data fuctions\n",
    "l2 = [1,2,3]\n",
    "print(l1 is l2)"
   ]
  },
  {
   "cell_type": "code",
   "execution_count": 55,
   "metadata": {},
   "outputs": [
    {
     "name": "stdout",
     "output_type": "stream",
     "text": [
      "True\n"
     ]
    }
   ],
   "source": [
    "list1= [1,2,3,4]\n",
    "print(1 in list1)"
   ]
  },
  {
   "cell_type": "code",
   "execution_count": 57,
   "metadata": {},
   "outputs": [
    {
     "name": "stdout",
     "output_type": "stream",
     "text": [
      "True\n",
      "False\n"
     ]
    }
   ],
   "source": [
    "d= {1:\"a\", 2:\"b\"}\n",
    "print(1 in d) # it deals with key name but not key value\n",
    "print(\"a\" in d)"
   ]
  },
  {
   "cell_type": "code",
   "execution_count": 58,
   "metadata": {},
   "outputs": [],
   "source": [
    "# 0, None, False considered as False\n",
    "# except above three keyword everything considered as Ture\n"
   ]
  },
  {
   "cell_type": "code",
   "execution_count": null,
   "metadata": {},
   "outputs": [],
   "source": []
  }
 ],
 "metadata": {
  "kernelspec": {
   "display_name": "Python 3",
   "language": "python",
   "name": "python3"
  },
  "language_info": {
   "codemirror_mode": {
    "name": "ipython",
    "version": 3
   },
   "file_extension": ".py",
   "mimetype": "text/x-python",
   "name": "python",
   "nbconvert_exporter": "python",
   "pygments_lexer": "ipython3",
   "version": "3.7.4"
  }
 },
 "nbformat": 4,
 "nbformat_minor": 2
}
